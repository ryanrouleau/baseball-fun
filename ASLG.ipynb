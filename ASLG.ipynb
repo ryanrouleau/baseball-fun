{
 "cells": [
  {
   "cell_type": "code",
   "execution_count": 2,
   "metadata": {
    "ExecuteTime": {
     "end_time": "2019-04-25T18:16:23.269078Z",
     "start_time": "2019-04-25T18:16:22.102249Z"
    },
    "collapsed": true
   },
   "outputs": [],
   "source": [
    "from pybaseball import batting\n",
    "from pybaseball import playerid_reverse_lookup\n",
    "import pandas as pd"
   ]
  },
  {
   "cell_type": "code",
   "execution_count": 113,
   "metadata": {
    "ExecuteTime": {
     "end_time": "2019-04-25T18:44:05.911647Z",
     "start_time": "2019-04-25T18:43:49.824543Z"
    },
    "collapsed": true
   },
   "outputs": [],
   "source": [
    "statcast = pd.read_csv('../hmwk/statcast2016.csv')"
   ]
  },
  {
   "cell_type": "code",
   "execution_count": null,
   "metadata": {
    "ExecuteTime": {
     "start_time": "2019-04-25T18:43:49.974Z"
    }
   },
   "outputs": [
    {
     "data": {
      "text/plain": [
       "field_out                       75296\n",
       "strikeout                       39457\n",
       "single                          27865\n",
       "walk                            14331\n",
       "double                           8349\n",
       "home_run                         5677\n",
       "force_out                        3922\n",
       "grounded_into_double_play        3759\n",
       "hit_by_pitch                     1678\n",
       "field_error                      1614\n",
       "sac_fly                          1206\n",
       "sac_bunt                         1037\n",
       "intent_walk                       949\n",
       "triple                            883\n",
       "double_play                       452\n",
       "fielders_choice_out               290\n",
       "caught_stealing_2b                229\n",
       "strikeout_double_play             141\n",
       "fielders_choice                    98\n",
       "pickoff_caught_stealing_2b         49\n",
       "other_out                          42\n",
       "catcher_interf                     40\n",
       "pickoff_1b                         34\n",
       "sac_fly_double_play                24\n",
       "caught_stealing_3b                 19\n",
       "pickoff_2b                         13\n",
       "run                                 8\n",
       "triple_play                         7\n",
       "caught_stealing_home                7\n",
       "batter_interference                 2\n",
       "pickoff_caught_stealing_home        2\n",
       "pickoff_caught_stealing_3b          1\n",
       "sac_bunt_double_play                1\n",
       "Name: events, dtype: int64"
      ]
     },
     "execution_count": 114,
     "metadata": {},
     "output_type": "execute_result"
    }
   ],
   "source": [
    "statcast['events'].value_counts()"
   ]
  },
  {
   "cell_type": "code",
   "execution_count": null,
   "metadata": {
    "ExecuteTime": {
     "start_time": "2019-04-25T18:43:50.126Z"
    }
   },
   "outputs": [],
   "source": [
    "def calc_slg_by_game(group):\n",
    "    \n",
    "    event_counts = group['events'].value_counts()\n",
    "    \n",
    "    total_bases = 0\n",
    "    total_bases += 1 * event_counts['single'] if 'single' in event_counts else 0\n",
    "    total_bases += 2 * event_counts['double'] if 'double' in event_counts else 0\n",
    "    total_bases += 3 * event_counts['triple'] if 'triple' in event_counts else 0\n",
    "    total_bases += 4 * event_counts['home_run'] if 'home_run' in event_counts else 0\n",
    "    \n",
    "    hits = 0\n",
    "    hits += event_counts['single'] if 'single' in event_counts else 0\n",
    "    hits += event_counts['double'] if 'double' in event_counts else 0\n",
    "    hits += event_counts['triple'] if 'triple' in event_counts else 0\n",
    "    hits += event_counts['home_run'] if 'home_run' in event_counts else 0\n",
    "    \n",
    "    at_bats = len(group)\n",
    "    at_bats -= event_counts['walk'] if 'walk' in event_counts else 0\n",
    "    at_bats -= event_counts['hit_by_bat'] if 'hit_by_bat' in event_counts else 0\n",
    "    \n",
    "    ret_obj = {\n",
    "        'total_bases': total_bases,\n",
    "        'hits': hits,\n",
    "        'at_bats': at_bats,\n",
    "        'stand': group['stand'].iloc[0],\n",
    "        'batter': group['batter'].iloc[0],\n",
    "        'home_team': group['home_team'].iloc[0]\n",
    "    }\n",
    "    \n",
    "    return pd.Series(ret_obj)\n",
    "\n",
    "bat_stats_by_game = statcast.groupby(['game_pk', 'batter']).apply(calc_slg_by_game)"
   ]
  },
  {
   "cell_type": "code",
   "execution_count": null,
   "metadata": {
    "ExecuteTime": {
     "start_time": "2019-04-25T18:43:50.263Z"
    }
   },
   "outputs": [],
   "source": [
    "bat_stats_by_game"
   ]
  },
  {
   "cell_type": "code",
   "execution_count": null,
   "metadata": {
    "ExecuteTime": {
     "start_time": "2019-04-25T18:43:50.403Z"
    }
   },
   "outputs": [],
   "source": [
    "sorted(bat_stats_by_game['home_team'].unique())"
   ]
  },
  {
   "cell_type": "code",
   "execution_count": null,
   "metadata": {
    "ExecuteTime": {
     "start_time": "2019-04-25T18:43:50.555Z"
    },
    "collapsed": true
   },
   "outputs": [],
   "source": [
    "# park factors from: https://swishanalytics.com/mlb/mlb-park-factors\n",
    "\n",
    "# L is left field, so right handed will use left field factors\n",
    "\n",
    "slg_pfs = {\n",
    "    \n",
    "    'ARIL': 1.05,\n",
    "    'ARIR': 1.07,\n",
    "    \n",
    "    'ATLL': 0.97,\n",
    "    'ATLR': 0.98,\n",
    "    \n",
    "    'BALL': 1.05,\n",
    "    'BALR': 1.03,\n",
    "    \n",
    "    'BOSL': 1.02,\n",
    "    'BOSR': 1.02,\n",
    "    \n",
    "    'CHCL': 1.02,\n",
    "    'CHCR': 1.01,\n",
    "    \n",
    "    'CINL': 1.08,\n",
    "    'CINR': 1.02,\n",
    "    \n",
    "    'CLEL': 0.93,\n",
    "    'CLER': 1.09,\n",
    "    \n",
    "    'COLL': 1.21,\n",
    "    'COLR': 1.27,\n",
    "    \n",
    "    'CWSL': 0.99,\n",
    "    'CWSR': 0.97,\n",
    "    \n",
    "    'DETL': 1.08,\n",
    "    'DETR': 0.95,\n",
    "    \n",
    "    'HOUL': 0.98,\n",
    "    'HOUR': 0.95,\n",
    "    \n",
    "    'KCL': 0.98,\n",
    "    'KCR': 1.00,\n",
    "    \n",
    "    'LAAL': 0.98,\n",
    "    'LAAR': 1.00,\n",
    "    \n",
    "    'LADL': 0.96,\n",
    "    'LADR': 0.98,\n",
    "    \n",
    "    'MIAL': 0.87,\n",
    "    'MIAR': 0.87,\n",
    "    \n",
    "    'MILL': 1.02,\n",
    "    'MILR': 1.05,\n",
    "    \n",
    "    'MINL': 1.03,\n",
    "    'MINR': 1.02,\n",
    "    \n",
    "    'NYML': 0.88,\n",
    "    'NYMR': 0.87,\n",
    "    \n",
    "    'NYYL': 1.03,\n",
    "    'NYYR': 1.08,\n",
    "    \n",
    "    'OAKL': 0.96,\n",
    "    'OAKR': 0.92,\n",
    "    \n",
    "    'PHIL': 1.07,\n",
    "    'PHIR': 1.03,\n",
    "    \n",
    "    'PITL': 0.94,\n",
    "    'PITR': 1.02,\n",
    "    \n",
    "    'SDL': 0.92,\n",
    "    'SDR': 0.98,\n",
    "    \n",
    "    'SEAL': 0.93,\n",
    "    'SEAR': 0.91,\n",
    "    \n",
    "    'SFL': 0.93,\n",
    "    'SFR': 0.89,\n",
    "    \n",
    "    'STLL': 0.94,\n",
    "    'STLR': 0.94,\n",
    "    \n",
    "    'TBL': 0.96,\n",
    "    'TBR': 0.89,\n",
    "    \n",
    "    'TEXL': 1.12,\n",
    "    'TEXR': 1.17,\n",
    "    \n",
    "    'TORL': 1.03,\n",
    "    'TORR': 0.99,\n",
    "    \n",
    "    'WSHL': 1.08,\n",
    "    'WSHR': 1.08\n",
    "    \n",
    "}"
   ]
  },
  {
   "cell_type": "code",
   "execution_count": null,
   "metadata": {
    "ExecuteTime": {
     "start_time": "2019-04-25T18:43:50.707Z"
    },
    "collapsed": true
   },
   "outputs": [],
   "source": [
    "\n",
    "# batter_bat_stats = {\n",
    "#     '<player_id>': {\n",
    "#         'total_bases': 0,\n",
    "#         'adjusted_total_bases': 0,\n",
    "#         'at_bats': 0,\n",
    "#         'hits': 0\n",
    "#     }\n",
    "# }\n",
    "\n",
    "batter_bat_stats = {}\n",
    "\n",
    "for idx, row in bat_stats_by_game.iterrows():\n",
    "    \n",
    "    player_id = row['batter']\n",
    "    right_left_handed = 'L' if row['stand'] == 'R' else 'R'\n",
    "    park_factor_key = row['home_team'] + right_left_handed\n",
    "    \n",
    "    if player_id not in batter_bat_stats:\n",
    "        batter_bat_stats[player_id] = {\n",
    "            'total_bases': row['total_bases'],\n",
    "            'hits': row['hits'],\n",
    "            'adjusted_total_bases': row['total_bases'] * slg_pfs[park_factor_key],\n",
    "            'at_bats': row['at_bats'],\n",
    "        }\n",
    "    else:\n",
    "        batter_bat_stats[player_id]['total_bases'] = batter_bat_stats[player_id]['total_bases'] + row['total_bases']\n",
    "        batter_bat_stats[player_id]['adjusted_total_bases'] = batter_bat_stats[player_id]['adjusted_total_bases'] + row['total_bases'] * slg_pfs[park_factor_key]\n",
    "        batter_bat_stats[player_id]['at_bats'] = batter_bat_stats[player_id]['at_bats'] + row['at_bats']\n",
    "        batter_bat_stats[player_id]['hits'] = batter_bat_stats[player_id]['hits'] + row['hits']\n",
    "        "
   ]
  },
  {
   "cell_type": "code",
   "execution_count": null,
   "metadata": {
    "ExecuteTime": {
     "start_time": "2019-04-25T18:43:50.845Z"
    }
   },
   "outputs": [],
   "source": [
    "batter_bat_stats"
   ]
  },
  {
   "cell_type": "code",
   "execution_count": null,
   "metadata": {
    "ExecuteTime": {
     "start_time": "2019-04-25T18:43:50.986Z"
    }
   },
   "outputs": [],
   "source": [
    "slgs = {\n",
    "    'batter': [],\n",
    "    'slg': [],\n",
    "    'aslg': [],\n",
    "    'total_bases': [],\n",
    "    'hits': [],\n",
    "    'at_bats': [],\n",
    "}\n",
    "\n",
    "for batter in batter_bat_stats:\n",
    "    stats = batter_bat_stats[batter]\n",
    "    slg = stats['total_bases'] / stats['at_bats']\n",
    "    aslg = stats['adjusted_total_bases'] / stats['at_bats']\n",
    "    slgs['batter'].append(batter)\n",
    "    slgs['slg'].append(slg)\n",
    "    slgs['aslg'].append(aslg)\n",
    "    slgs['hits'].append(stats['hits'])\n",
    "    slgs['at_bats'].append(stats['at_bats'])\n",
    "    slgs['total_bases'].append(stats['total_bases'])\n"
   ]
  },
  {
   "cell_type": "code",
   "execution_count": null,
   "metadata": {
    "ExecuteTime": {
     "start_time": "2019-04-25T18:43:51.124Z"
    },
    "collapsed": true
   },
   "outputs": [],
   "source": [
    "final_df = pd.DataFrame(slgs)"
   ]
  },
  {
   "cell_type": "code",
   "execution_count": null,
   "metadata": {
    "ExecuteTime": {
     "start_time": "2019-04-25T18:43:51.272Z"
    }
   },
   "outputs": [],
   "source": [
    "final_df"
   ]
  },
  {
   "cell_type": "code",
   "execution_count": null,
   "metadata": {
    "ExecuteTime": {
     "start_time": "2019-04-25T18:43:51.415Z"
    }
   },
   "outputs": [],
   "source": [
    "batter_ids = list(map(int, list(final_df['batter'])))"
   ]
  },
  {
   "cell_type": "code",
   "execution_count": null,
   "metadata": {
    "ExecuteTime": {
     "start_time": "2019-04-25T18:43:51.563Z"
    }
   },
   "outputs": [],
   "source": [
    "batter_ids"
   ]
  },
  {
   "cell_type": "code",
   "execution_count": null,
   "metadata": {
    "ExecuteTime": {
     "start_time": "2019-04-25T18:43:51.720Z"
    }
   },
   "outputs": [],
   "source": [
    "ids_names = playerid_reverse_lookup(batter_ids, key_type='mlbam')"
   ]
  },
  {
   "cell_type": "code",
   "execution_count": null,
   "metadata": {
    "ExecuteTime": {
     "start_time": "2019-04-25T18:43:51.869Z"
    }
   },
   "outputs": [],
   "source": [
    "ids_names"
   ]
  },
  {
   "cell_type": "code",
   "execution_count": null,
   "metadata": {
    "ExecuteTime": {
     "start_time": "2019-04-25T18:43:52.044Z"
    },
    "collapsed": true
   },
   "outputs": [],
   "source": [
    "joined = pd.merge(final_df, ids_names, left_on='batter', right_on='key_mlbam', how='left')"
   ]
  },
  {
   "cell_type": "code",
   "execution_count": null,
   "metadata": {
    "ExecuteTime": {
     "start_time": "2019-04-25T18:43:52.410Z"
    },
    "collapsed": true
   },
   "outputs": [],
   "source": [
    "joined['full_name'] = joined['name_first'] + ' ' + joined['name_last']"
   ]
  },
  {
   "cell_type": "code",
   "execution_count": null,
   "metadata": {
    "ExecuteTime": {
     "start_time": "2019-04-25T18:43:52.685Z"
    },
    "collapsed": true
   },
   "outputs": [],
   "source": [
    "cleaned_df = joined[['full_name', 'slg', 'aslg', 'total_bases', 'hits', 'at_bats']]"
   ]
  },
  {
   "cell_type": "code",
   "execution_count": null,
   "metadata": {
    "ExecuteTime": {
     "start_time": "2019-04-25T18:43:52.906Z"
    }
   },
   "outputs": [],
   "source": [
    "cleaned_df"
   ]
  },
  {
   "cell_type": "code",
   "execution_count": null,
   "metadata": {
    "ExecuteTime": {
     "start_time": "2019-04-25T18:43:53.853Z"
    }
   },
   "outputs": [],
   "source": [
    "cleaned_df.to_json('./2016_ASLG_results.json', orient='records')"
   ]
  },
  {
   "cell_type": "code",
   "execution_count": null,
   "metadata": {
    "collapsed": true
   },
   "outputs": [],
   "source": []
  }
 ],
 "metadata": {
  "kernelspec": {
   "display_name": "Python 3",
   "language": "python",
   "name": "python3"
  },
  "language_info": {
   "codemirror_mode": {
    "name": "ipython",
    "version": 3
   },
   "file_extension": ".py",
   "mimetype": "text/x-python",
   "name": "python",
   "nbconvert_exporter": "python",
   "pygments_lexer": "ipython3",
   "version": "3.6.1"
  }
 },
 "nbformat": 4,
 "nbformat_minor": 2
}
